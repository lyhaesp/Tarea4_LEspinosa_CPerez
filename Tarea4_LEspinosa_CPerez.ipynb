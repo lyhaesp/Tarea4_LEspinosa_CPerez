{
 "cells": [
  {
   "cell_type": "markdown",
   "metadata": {},
   "source": [
    "<img style=\"float: left; margin: 30px 15px 15px 15px;\" src=\"https://pngimage.net/wp-content/uploads/2018/06/logo-iteso-png-5.png\" width=\"300\" height=\"500\" /> \n",
    "    \n",
    "    \n",
    "### <font color='navy'> Simulación de procesos financieros. \n",
    "\n",
    "**Nombres:** Lyha Espinosa García, Carlos Daniel Pérez Hernández.\n",
    "\n",
    "**Fecha:** 22 de Febrero del 2021.\n",
    "\n",
    "**Expediente** : 721861, .\n",
    "**Profesor:** Oscar David Jaramillo Zuluaga.\n",
    "\n",
    "# Tarea 4: Clase 7"
   ]
  },
  {
   "cell_type": "markdown",
   "metadata": {},
   "source": [
    "## [Liga al repositorio ](https://github.com/lyhaesp/Tarea4_LEspinosa_CPerez.git)"
   ]
  },
  {
   "cell_type": "markdown",
   "metadata": {},
   "source": [
    "## Enunciado de tarea \n",
    "### Ejercicio 1\n",
    "Como ejemplo simple de una simulación de Monte Carlo, considere calcular la probabilidad de una suma particular del lanzamiento de tres dados (cada dado tiene valores del uno al seis). Además cada dado tiene las siguientes carácterísticas: el primer dado no está cargado (distribución uniforme todos son equiprobables); el segundo y tercer dado están cargados basados en una distribución binomial con parámetros (`n=5, p=0.5` y `n=5, p=0.2`). Calcule la probabilidad de que la suma resultante sea 7, 14 o 18. \n",
    "### 2 Ejercicio de aplicación- Cafetería Central\n",
    "Premisas para la simulación:\n",
    "- Negocio de alimentos que vende bebidas y alimentos.\n",
    "- Negocio dentro del ITESO.\n",
    "- Negocio en cafetería central.\n",
    "- Tipo de clientes (hombres y mujeres).\n",
    "- Rentabilidad del 60%.\n",
    "\n",
    "#### Objetivo\n",
    "Realizar una simulación estimado el tiempo medio que se tardaran los clientes en ser atendidos entre el horario de 6:30 a 1 pm. Además saber el consumo. \n",
    "**Analizar supuestos y limitantes**\n",
    "#### Supuestos en simulación\n",
    "Clasificación de clientes: \n",
    "- Mujer  = 1 $\\longrightarrow$ aleatorio < 0.5\n",
    "- Hombre = 0 $\\longrightarrow$ aleatorio $\\geq$ 0.5.\n",
    "\n",
    "Condiciones iniciales:\n",
    "- Todas las distrubuciones de probabilidad se supondrán uniformes.\n",
    "- Tiempo de simulación: 6:30 am - 1:30pm $\\longrightarrow$ T = 7 horas = 25200 seg.\n",
    "- Tiempo de llegada hasta ser atendido: Min=5seg, Max=30seg.\n",
    "- Tiempo que tardan los clientes en ser atendidos:\n",
    "    - Mujer: Min = 1 min= 60seg, Max = 5 min = 300 seg\n",
    "    - Hombre: Min = 40 seg, Max = 2 min= 120 seg\n",
    "- Consumo según el tipo de cliente:\n",
    "    - Mujer: Min = 30 pesos, Max = 100 pesos\n",
    "    - Hombre: Min = 20 pesos, Max = 80 pesos\n",
    "\n",
    "Responder las siguientes preguntas basados en los datos del problema:\n",
    "1. ¿Cuáles fueron los gastos de los hombres y las mujeres en 5 días de trabajo?.\n",
    "2. ¿Cuál fue el consumo promedio de los hombres y mujeres?\n",
    "3. ¿Cuál fue el número de personas atendidas por día?\n",
    "4. ¿Cuál fue el tiempo de atención promedio?\n",
    "5. ¿Cuánto fue la ganancia promedio de la cafetería en 5 días de trabajo y su respectiva rentabilidad?"
   ]
  },
  {
   "cell_type": "markdown",
   "metadata": {},
   "source": [
    "## Respuesta a los ejercicios"
   ]
  },
  {
   "cell_type": "markdown",
   "metadata": {},
   "source": [
    "### Ejercicio 1: \n",
    "Como ejemplo simple de una simulación de Monte Carlo, considere calcular la probabilidad de una suma particular del lanzamiento de tres dados (cada dado tiene valores del uno al seis). Además cada dado tiene las siguientes carácterísticas: el primer dado no está cargado (distribución uniforme todos son equiprobables); el segundo y tercer dado están cargados basados en una distribución binomial con parámetros (`n=5, p=0.5` y `n=5, p=0.2`). Calcule la probabilidad de que la suma resultante sea 7, 14 o 18. "
   ]
  },
  {
   "cell_type": "markdown",
   "metadata": {},
   "source": [
    "### Solución Lyha"
   ]
  },
  {
   "cell_type": "code",
   "execution_count": 2,
   "metadata": {},
   "outputs": [],
   "source": [
    "import numpy as np\n",
    "import scipy.stats as st\n",
    "import matplotlib.pyplot as plt\n",
    "\n",
    "\n",
    "dado1 = np.random.randint(1,7,100000)\n",
    "dado2 = st.binom(n=5,p=0.5, loc=1).rvs(size=100000)\n",
    "dado3 = st.binom(n=5,p=0.2, loc=1).rvs(size=100000)\n",
    "\n",
    "suma = dado1 + dado2 + dado3"
   ]
  },
  {
   "cell_type": "code",
   "execution_count": 9,
   "metadata": {},
   "outputs": [
    {
     "data": {
      "text/plain": [
       "(0.12674, 0.0136, 0.0)"
      ]
     },
     "execution_count": 9,
     "metadata": {},
     "output_type": "execute_result"
    }
   ],
   "source": [
    "p7 = len(suma[suma==7])/len(suma)\n",
    "p14 = len(suma[suma==14])/len(suma)\n",
    "p18 = len(suma[suma==18])/len(suma)\n",
    "p7, p14, p18"
   ]
  },
  {
   "cell_type": "markdown",
   "metadata": {},
   "source": [
    "\n",
    "- La probabilidad de que la suma resultante sea 7 es de aprox 12.67%\n",
    "- La probabilidad de que la suma resultante sea 14 es de aprox 1.36%\n",
    "- La probabilidad de que la suma resultante sea 18 es de aprox 0%\n"
   ]
  },
  {
   "cell_type": "markdown",
   "metadata": {},
   "source": [
    "### Solución Daniel"
   ]
  },
  {
   "cell_type": "code",
   "execution_count": 3,
   "metadata": {},
   "outputs": [],
   "source": [
    "# Dado 1 no Cargado\n",
    "dado_nc = np.random.randint(1,7,1000)\n",
    "\n",
    "# Dado 2 cargado\n",
    "dado2_cargado = st.binom(n=5, p=0.5, loc=1).rvs(size=1000)\n",
    "\n",
    "# Dado 3 cargado\n",
    "dado3_cargado = st.binom(n=5, p=0.2, loc=1).rvs(size=1000)\n",
    "\n",
    "# Suma de los dados\n",
    "\n",
    "suma1 = dado_nc + dado2_cargado + dado3_cargado"
   ]
  },
  {
   "cell_type": "code",
   "execution_count": 4,
   "metadata": {},
   "outputs": [
    {
     "data": {
      "text/plain": [
       "(0.111, 0.016, 0.0)"
      ]
     },
     "execution_count": 4,
     "metadata": {},
     "output_type": "execute_result"
    }
   ],
   "source": [
    "# Probabilidad de que la suma sea un 7\n",
    "p7 = [a for a in suma1 if a == 7] \n",
    "suma7 = len(p7)/len(suma1)\n",
    "\n",
    "# Probabilidad de que la suma sea un 14\n",
    "p14 = [a for a in suma1 if a == 14] \n",
    "suma14 = len(p14)/len(suma1)\n",
    "\n",
    "# Probabilidad de que la suma sea un 18\n",
    "p18 = [a for a in suma1 if a == 18] \n",
    "suma18 = len(p18)/len(suma1)\n",
    "\n",
    "# Resultado\n",
    "suma7, suma14, suma18"
   ]
  },
  {
   "cell_type": "markdown",
   "metadata": {},
   "source": [
    "## Ejercicio 2:\n",
    "Cafetería Central\n",
    "\n",
    "Premisas para la simulación:\n",
    "- Negocio de alimentos que vende bebidas y alimentos.\n",
    "- Negocio dentro del ITESO.\n",
    "- Negocio en cafetería central.\n",
    "- Tipo de clientes (hombres y mujeres).\n",
    "- Rentabilidad del 60%.\n",
    "\n",
    "### Objetivo\n",
    "Realizar una simulación estimado el tiempo medio que se tardaran los clientes en ser atendidos entre el horario de 6:30 a 1 pm. Además saber el consumo. \n",
    "**Analizar supuestos y limitantes**\n",
    "### Supuestos en simulación\n",
    "Clasificación de clientes: \n",
    "- Mujer  = 1 $\\longrightarrow$ aleatorio < 0.5\n",
    "- Hombre = 0 $\\longrightarrow$ aleatorio $\\geq$ 0.5.\n",
    "\n",
    "Condiciones iniciales:\n",
    "- Todas las distrubuciones de probabilidad se supondrán uniformes.\n",
    "- Tiempo de simulación: 6:30 am - 1:30pm $\\longrightarrow$ T = 7 horas = 25200 seg.\n",
    "- Tiempo de llegada hasta ser atendido: Min=5seg, Max=30seg.\n",
    "- Tiempo que tardan los clientes en ser atendidos:\n",
    "    - Mujer: Min = 1 min= 60seg, Max = 5 min = 300 seg\n",
    "    - Hombre: Min = 40 seg, Max = 2 min= 120 seg\n",
    "- Consumo según el tipo de cliente:\n",
    "    - Mujer: Min = 30 pesos, Max = 100 pesos\n",
    "    - Hombre: Min = 20 pesos, Max = 80 pesos\n",
    "\n",
    "Responder las siguientes preguntas basados en los datos del problema:\n",
    "1. ¿Cuáles fueron los gastos de los hombres y las mujeres en 5 días de trabajo?.\n",
    "2. ¿Cuál fue el consumo promedio de los hombres y mujeres?\n",
    "3. ¿Cuál fue el número de personas atendidas por día?\n",
    "4. ¿Cuál fue el tiempo de atención promedio?\n",
    "5. ¿Cuánto fue la ganancia promedio de la cafetería en 5 días de trabajo y su respectiva rentabilidad?"
   ]
  },
  {
   "cell_type": "code",
   "execution_count": 11,
   "metadata": {},
   "outputs": [],
   "source": [
    "################## Datos del problema\n",
    "d = 5\n",
    "T =25200\n",
    "T_at_min = 5; T_at_max = 30\n",
    "T_mujer_min =60; T_mujer_max = 300\n",
    "T_hombre_min = 40; T_hombre_max = 120\n",
    "C_mujer_min = 30; C_mujer_max = 100\n",
    "C_hombre_min = 20; C_hombre_max = 80"
   ]
  },
  {
   "cell_type": "markdown",
   "metadata": {},
   "source": [
    "### Solución Lyha"
   ]
  },
  {
   "cell_type": "code",
   "execution_count": 12,
   "metadata": {},
   "outputs": [],
   "source": [
    "def persona():\n",
    "    x = np.random.randint(0,2)\n",
    "    if x==1:\n",
    "        return True\n",
    "    else:\n",
    "        return False "
   ]
  },
  {
   "cell_type": "code",
   "execution_count": 13,
   "metadata": {},
   "outputs": [],
   "source": [
    "def iteso():\n",
    "    tiempo = 0 \n",
    "    t=[]\n",
    "    gasto=[]\n",
    "    while tiempo < T:\n",
    "        tiempoAt = np.random.randint(T_at_min ,T_at_max+1)\n",
    "        tiempoM = np.random.randint(T_mujer_min, T_mujer_max+1)\n",
    "        tiempoH = np.random.randint(T_hombre_min, T_hombre_max+1)\n",
    "\n",
    "        if persona():    \n",
    "                t.append(tiempoM+tiempoAt)\n",
    "        else:\n",
    "                t.append(tiempoH+tiempoAt)\n",
    "\n",
    "        tiempo = sum(t)\n",
    "    return t"
   ]
  },
  {
   "cell_type": "code",
   "execution_count": 14,
   "metadata": {},
   "outputs": [],
   "source": [
    "sim_f1 = [iteso() for i in range(1000)]"
   ]
  },
  {
   "cell_type": "code",
   "execution_count": 23,
   "metadata": {},
   "outputs": [],
   "source": [
    "clientes = [len(sim_f1[i]) for i in range(len(sim_f1))]\n",
    "clientes_prom=sum(clientes)/len(clientes)"
   ]
  },
  {
   "cell_type": "code",
   "execution_count": 15,
   "metadata": {},
   "outputs": [],
   "source": [
    "def iteso2():\n",
    "    tiempo = 0 \n",
    "    t=[]\n",
    "    gasto=[]\n",
    "    while tiempo < T:\n",
    "        tiempoAt = np.random.randint(T_at_min ,T_at_max+1)\n",
    "        tiempoM = np.random.randint(T_mujer_min, T_mujer_max+1)\n",
    "        tiempoH = np.random.randint(T_hombre_min, T_hombre_max+1)\n",
    "\n",
    "        if persona():    \n",
    "                t.append(tiempoM+tiempoAt)\n",
    "        else:\n",
    "                t.append(tiempoH+tiempoAt)\n",
    "\n",
    "        gastoM = np.random.randint(C_mujer_min, C_mujer_max+1)\n",
    "        gastoH = np.random.randint(C_hombre_min, C_hombre_max+1)\n",
    "        if persona():    \n",
    "            gasto.append(gastoM)\n",
    "        else:\n",
    "            gasto.append(gastoH)\n",
    "        tiempo = sum(t)\n",
    "    return gasto"
   ]
  },
  {
   "cell_type": "code",
   "execution_count": 16,
   "metadata": {},
   "outputs": [],
   "source": [
    "sim_f2 = [iteso2() for i in range(1000)]"
   ]
  },
  {
   "cell_type": "markdown",
   "metadata": {},
   "source": [
    "1. ¿Cuáles fueron los gastos de los hombres y las mujeres en 5 días de trabajo?."
   ]
  },
  {
   "cell_type": "code",
   "execution_count": 19,
   "metadata": {},
   "outputs": [
    {
     "data": {
      "text/plain": [
       "49234.045"
      ]
     },
     "execution_count": 19,
     "metadata": {},
     "output_type": "execute_result"
    }
   ],
   "source": [
    "gasto_suma = [sum(sim_f2[i]) for i in range(len(sim_f2))]\n",
    "gasto_prom = sum(gasto_suma)/len(gasto_suma)\n",
    "gasto5_dias = gasto_prom*d\n",
    "gasto5_dias"
   ]
  },
  {
   "cell_type": "markdown",
   "metadata": {},
   "source": [
    "Los gastos de los hombres y mujeres en 5 días de trabajo fueron de $49234.045"
   ]
  },
  {
   "cell_type": "markdown",
   "metadata": {},
   "source": [
    "2. ¿Cuál fue el consumo promedio de los hombres y mujeres?\n"
   ]
  },
  {
   "cell_type": "code",
   "execution_count": 24,
   "metadata": {},
   "outputs": [
    {
     "data": {
      "text/plain": [
       "57.51103284739743"
      ]
     },
     "execution_count": 24,
     "metadata": {},
     "output_type": "execute_result"
    }
   ],
   "source": [
    "gasto_prom_final = gasto_prom/clientes_prom\n",
    "gasto_prom_final"
   ]
  },
  {
   "cell_type": "markdown",
   "metadata": {},
   "source": [
    "El consumo promedio es de $57.51"
   ]
  },
  {
   "cell_type": "markdown",
   "metadata": {},
   "source": [
    "3. ¿Cuál fue el número de personas atendidas por día?\n"
   ]
  },
  {
   "cell_type": "code",
   "execution_count": 25,
   "metadata": {},
   "outputs": [
    {
     "data": {
      "text/plain": [
       "171.216"
      ]
     },
     "execution_count": 25,
     "metadata": {},
     "output_type": "execute_result"
    }
   ],
   "source": [
    "clientes_prom"
   ]
  },
  {
   "cell_type": "markdown",
   "metadata": {},
   "source": [
    "Las personas atendidas por días son aprox. 171"
   ]
  },
  {
   "cell_type": "markdown",
   "metadata": {},
   "source": [
    "4. ¿Cuál fue el tiempo de atención promedio?"
   ]
  },
  {
   "cell_type": "code",
   "execution_count": 26,
   "metadata": {},
   "outputs": [
    {
     "data": {
      "text/plain": [
       "147.71510256050834"
      ]
     },
     "execution_count": 26,
     "metadata": {},
     "output_type": "execute_result"
    }
   ],
   "source": [
    "tiempo=[sum(sim_f1[i]) for i in range(len(sim_f1))]\n",
    "tiempo_prom = sum(tiempo)/len(tiempo)\n",
    "tiempo_prom_final = tiempo_prom/clientes_prom\n",
    "tiempo_prom_final"
   ]
  },
  {
   "cell_type": "markdown",
   "metadata": {},
   "source": [
    "El tiempo promedio de atención es de 147.71 segundos "
   ]
  },
  {
   "cell_type": "markdown",
   "metadata": {},
   "source": [
    "5. ¿Cuánto fue la ganancia promedio de la cafetería en 5 días de trabajo y su respectiva rentabilidad?"
   ]
  },
  {
   "cell_type": "code",
   "execution_count": 27,
   "metadata": {},
   "outputs": [
    {
     "data": {
      "text/plain": [
       "(49234.045, 29540.426999999996)"
      ]
     },
     "execution_count": 27,
     "metadata": {},
     "output_type": "execute_result"
    }
   ],
   "source": [
    "rentabilidad= gasto5_dias*.6\n",
    "gasto5_dias, rentabilidad"
   ]
  },
  {
   "cell_type": "markdown",
   "metadata": {},
   "source": [
    "El gasto promedio en 5 días fue de $49234.045$ y la rentabilidad es de $29540.42$"
   ]
  },
  {
   "cell_type": "markdown",
   "metadata": {},
   "source": [
    "### Solución Daniel"
   ]
  },
  {
   "cell_type": "code",
   "execution_count": 5,
   "metadata": {},
   "outputs": [],
   "source": [
    "# Día Laboral\n",
    "d_lab = 25200\n",
    "\n",
    "def llegada():\n",
    "    # tiempo de llegada\n",
    "    lleg = np.random.randint(5,30,1)\n",
    "    \n",
    "    return (lleg)"
   ]
  },
  {
   "cell_type": "code",
   "execution_count": 6,
   "metadata": {},
   "outputs": [],
   "source": [
    "# Un solo Cliente Hombre\n",
    "\n",
    "def atendido_hombre():\n",
    "    # tiempo hombre en ser atendido\n",
    "    at_h = np.random.randint(40,121,1)\n",
    "    \n",
    "    return (at_h)\n",
    "\n",
    "def consumo_hombre():\n",
    "\n",
    "    # consumo hombres\n",
    "    con_h = np.random.randint(20,80,1)\n",
    "\n",
    "    return (con_h)"
   ]
  },
  {
   "cell_type": "code",
   "execution_count": 7,
   "metadata": {},
   "outputs": [],
   "source": [
    "# Una sola Cliente Mujer\n",
    "\n",
    "def atendida_mujer():\n",
    "    # tiempo mujer en ser atendida\n",
    "    at_m = np.random.randint(60,301,1)\n",
    "    \n",
    "    return(at_m)\n",
    "\n",
    "def consumo_mujer():    \n",
    "    # consumo mujeres\n",
    "    con_m = np.random.randint(30,100,1)\n",
    "\n",
    "    return (con_m)"
   ]
  },
  {
   "cell_type": "markdown",
   "metadata": {},
   "source": [
    "#### Pregunta 1"
   ]
  },
  {
   "cell_type": "code",
   "execution_count": 8,
   "metadata": {},
   "outputs": [
    {
     "name": "stdout",
     "output_type": "stream",
     "text": [
      "Gasto de los hombres: 1244633\n"
     ]
    }
   ],
   "source": [
    "consumo_hombres = [sum(consumo_hombre()) for i in range (d_lab) if (sum(llegada()) <= d_lab)]\n",
    "\n",
    "print(\"Gasto de los hombres:\",sum(consumo_hombres))"
   ]
  },
  {
   "cell_type": "code",
   "execution_count": 10,
   "metadata": {},
   "outputs": [
    {
     "name": "stdout",
     "output_type": "stream",
     "text": [
      "Gasto de las mujeres: 1626463\n"
     ]
    }
   ],
   "source": [
    "consumo_mujeres = [sum(consumo_mujer()) for i in range (d_lab) if (sum(atendida_mujer()) <= d_lab)]\n",
    "\n",
    "print('Gasto de las mujeres:',sum(consumo_mujeres))"
   ]
  },
  {
   "cell_type": "markdown",
   "metadata": {},
   "source": [
    "#### Pregunta 2"
   ]
  },
  {
   "cell_type": "code",
   "execution_count": 11,
   "metadata": {},
   "outputs": [
    {
     "name": "stdout",
     "output_type": "stream",
     "text": [
      "Consumo promedio hombres: 49.39019841269841\n"
     ]
    }
   ],
   "source": [
    "a = sum(consumo_hombres)/d_lab\n",
    "print('Consumo promedio hombres:',a)"
   ]
  },
  {
   "cell_type": "code",
   "execution_count": 12,
   "metadata": {},
   "outputs": [
    {
     "name": "stdout",
     "output_type": "stream",
     "text": [
      "Consumo promedio mujeres: 64.54218253968254\n"
     ]
    }
   ],
   "source": [
    "b = sum(consumo_mujeres)/d_lab\n",
    "print('Consumo promedio mujeres:',b)"
   ]
  },
  {
   "cell_type": "markdown",
   "metadata": {},
   "source": [
    "#### Pregunta 3"
   ]
  },
  {
   "cell_type": "code",
   "execution_count": 13,
   "metadata": {},
   "outputs": [
    {
     "name": "stdout",
     "output_type": "stream",
     "text": [
      "personas atendidas por día 67.38166666666666\n"
     ]
    }
   ],
   "source": [
    "n = 100000\n",
    "atend = np.array([sum(llegada()) for i in range(n) if sum(llegada()) <= d_lab])\n",
    "print(\"personas atendidas por día\",sum(atend)/d_lab)"
   ]
  },
  {
   "cell_type": "markdown",
   "metadata": {},
   "source": [
    "#### Pregunta 4"
   ]
  },
  {
   "cell_type": "code",
   "execution_count": 14,
   "metadata": {},
   "outputs": [
    {
     "name": "stdout",
     "output_type": "stream",
     "text": [
      "El tiempo de atención promedio fue de: 16.98018 segundos\n"
     ]
    }
   ],
   "source": [
    "d = atend.mean()\n",
    "print(\"El tiempo de atención promedio fue de:\",d,'segundos')"
   ]
  },
  {
   "cell_type": "markdown",
   "metadata": {},
   "source": [
    "#### Pregunta 5"
   ]
  },
  {
   "cell_type": "code",
   "execution_count": 15,
   "metadata": {},
   "outputs": [
    {
     "name": "stdout",
     "output_type": "stream",
     "text": [
      "La ganancia promedio de la cafetería en 5 días fue: 574219.2\n"
     ]
    }
   ],
   "source": [
    "suma_consumo = sum(consumo_hombres + consumo_mujeres)\n",
    "c = suma_consumo/5\n",
    "\n",
    "print('La ganancia promedio de la cafetería en 5 días fue:',c)"
   ]
  }
 ],
 "metadata": {
  "kernelspec": {
   "display_name": "Python 3",
   "language": "python",
   "name": "python3"
  },
  "language_info": {
   "codemirror_mode": {
    "name": "ipython",
    "version": 3
   },
   "file_extension": ".py",
   "mimetype": "text/x-python",
   "name": "python",
   "nbconvert_exporter": "python",
   "pygments_lexer": "ipython3",
   "version": "3.8.5"
  }
 },
 "nbformat": 4,
 "nbformat_minor": 2
}
